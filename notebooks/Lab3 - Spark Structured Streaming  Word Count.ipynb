{
 "cells": [
  {
   "cell_type": "markdown",
   "metadata": {},
   "source": [
    "# Spark Structured Streaming Example in DSX\n",
    "This code demonstrate how to run Structured Streaming quick example from Apache Spark Documentation.\n",
    "\n",
    "Let’s say we needto maintain a running word count of text data received from a data server listening on a TCP socket. Keep this data in an in-memory tablem, so that we can query using Spark SQL.\n",
    "\n",
    "- Read Spark's Structured Streaming programing Guide here https://spark.apache.org/docs/2.1.0/structured-streaming-programming-guide.html\n",
    "- Express the required logic for word count using structured streaming api\n",
    "- Lets use netcat utility on unix as a data server to test it."
   ]
  },
  {
   "cell_type": "markdown",
   "metadata": {},
   "source": [
    "### > Create a DataFrame representing the stream of input lines from connection to localhost:9999\n",
    " <div class=\"panel-group\" id=\"accordion-11\">\n",
    "  <div class=\"panel panel-default\">\n",
    "    <div class=\"panel-heading\">\n",
    "      <h4 class=\"panel-title\">\n",
    "        <a data-toggle=\"collapse\" data-parent=\"#accordion-11\" href=\"#collapse1-11\">\n",
    "        Hint</a>\n",
    "      </h4>\n",
    "    </div>\n",
    "    <div id=\"collapse1-11\" class=\"panel-collapse collapse\">\n",
    "      <div class=\"panel-body\">Use <i>readStream</i> method on the spark session with socket source format and other options</div>\n",
    "    </div>\n",
    "  </div>\n",
    "  <div class=\"panel panel-default\">\n",
    "    <div class=\"panel-heading\">\n",
    "      <h4 class=\"panel-title\">\n",
    "        <a data-toggle=\"collapse\" data-parent=\"#accordion-11\" href=\"#collapse2-11\">\n",
    "        Show Code</a>\n",
    "      </h4>\n",
    "    </div>\n",
    "    <div id=\"collapse2-11\" class=\"panel-collapse collapse\">\n",
    "      <div class=\"panel-body\">\n",
    "lines&nbsp;=&nbsp;spark&nbsp;\\<br>\n",
    "&nbsp;&nbsp;&nbsp;&nbsp;.readStream&nbsp;\\<br>\n",
    "&nbsp;&nbsp;&nbsp;&nbsp;.format(\"socket\")&nbsp;\\<br>\n",
    "&nbsp;&nbsp;&nbsp;&nbsp;.option(\"host\",&nbsp;\"localhost\")&nbsp;\\<br>\n",
    "&nbsp;&nbsp;&nbsp;&nbsp;.option(\"port\",&nbsp;9999)&nbsp;\\<br>\n",
    "&nbsp;&nbsp;&nbsp;&nbsp;.load()</div>\n",
    "    </div>\n",
    "  </div>\n",
    "</div> "
   ]
  },
  {
   "cell_type": "code",
   "execution_count": null,
   "metadata": {},
   "outputs": [],
   "source": []
  },
  {
   "cell_type": "markdown",
   "metadata": {},
   "source": [
    "### > Split each line into words\n",
    " <div class=\"panel-group\" id=\"accordion-22\">\n",
    "  <div class=\"panel panel-default\">\n",
    "    <div class=\"panel-heading\">\n",
    "      <h4 class=\"panel-title\">\n",
    "        <a data-toggle=\"collapse\" data-parent=\"#accordion-22\" href=\"#collapse1-22\">\n",
    "        Hint</a>\n",
    "      </h4>\n",
    "    </div>\n",
    "    <div id=\"collapse1-22\" class=\"panel-collapse collapse\">\n",
    "      <div class=\"panel-body\"> Use pyspark's built-in SQL functions - <i>split</i> and <i>explode</i>, to split each line into multiple rows with a word each to define <i>words</i> dataframe.</div>\n",
    "    </div>\n",
    "  </div>\n",
    "  <div class=\"panel panel-default\">\n",
    "    <div class=\"panel-heading\">\n",
    "      <h4 class=\"panel-title\">\n",
    "        <a data-toggle=\"collapse\" data-parent=\"#accordion-22\" href=\"#collapse2-22\">\n",
    "        Show Code</a>\n",
    "      </h4>\n",
    "    </div>\n",
    "    <div id=\"collapse2-22\" class=\"panel-collapse collapse\">\n",
    "      <div class=\"panel-body\">\n",
    "#Import&nbsp;required&nbsp;pyspark&nbsp;sql&nbsp;unctions<br>\n",
    "from&nbsp;pyspark.sql.functions&nbsp;import&nbsp;explode<br>\n",
    "from&nbsp;pyspark.sql.functions&nbsp;import&nbsp;split<br>\n",
    "<br>\n",
    "words&nbsp;=&nbsp;lines.select(<br>\n",
    "&nbsp;&nbsp;&nbsp;explode(<br>\n",
    "&nbsp;&nbsp;&nbsp;&nbsp;&nbsp;&nbsp;&nbsp;split(lines.value,&nbsp;\"&nbsp;\")<br>\n",
    "&nbsp;&nbsp;&nbsp;).alias(\"word\")<br>\n",
    ")</div>\n",
    "    </div>\n",
    "  </div>\n",
    "</div> "
   ]
  },
  {
   "cell_type": "code",
   "execution_count": null,
   "metadata": {},
   "outputs": [],
   "source": []
  },
  {
   "cell_type": "markdown",
   "metadata": {},
   "source": [
    "### > Generate running word count\n",
    " <div class=\"panel-group\" id=\"accordion-33\">\n",
    "  <div class=\"panel panel-default\">\n",
    "    <div class=\"panel-heading\">\n",
    "      <h4 class=\"panel-title\">\n",
    "        <a data-toggle=\"collapse\" data-parent=\"#accordion-33\" href=\"#collapse1-33\">\n",
    "        Hint</a>\n",
    "      </h4>\n",
    "    </div>\n",
    "    <div id=\"collapse1-33\" class=\"panel-collapse collapse\">\n",
    "      <div class=\"panel-body\">Define the wordCounts DataFrame by grouping by the unique values in the Dataset and counting them.</div>\n",
    "    </div>\n",
    "  </div>\n",
    "  <div class=\"panel panel-default\">\n",
    "    <div class=\"panel-heading\">\n",
    "      <h4 class=\"panel-title\">\n",
    "        <a data-toggle=\"collapse\" data-parent=\"#accordion-22\" href=\"#collapse2-33\">\n",
    "        Show Code</a>\n",
    "      </h4>\n",
    "    </div>\n",
    "    <div id=\"collapse2-33\" class=\"panel-collapse collapse\">\n",
    "      <div class=\"panel-body\">\n",
    "wordCounts&nbsp;=&nbsp;words.groupBy(\"word\").count()\n",
    "        </div>\n",
    "    </div>\n",
    "  </div>\n",
    "</div> "
   ]
  },
  {
   "cell_type": "code",
   "execution_count": null,
   "metadata": {},
   "outputs": [],
   "source": []
  },
  {
   "cell_type": "markdown",
   "metadata": {},
   "source": [
    "### > Setup a query on wordCount steaming dataframe.\n",
    "- Setup a query for complete set of counts (specified by outputMode(\"complete\")) to a in-memory table with name TB_WORD_COUNT every time they are updated.\n",
    "- Set query trigger frequency to 30 seconds\n",
    " <div class=\"panel-group\" id=\"accordion-44\">\n",
    "  <div class=\"panel panel-default\">\n",
    "    <div class=\"panel-heading\">\n",
    "      <h4 class=\"panel-title\">\n",
    "        <a data-toggle=\"collapse\" data-parent=\"#accordion-33\" href=\"#collapse1-44\">\n",
    "        Hint</a>\n",
    "      </h4>\n",
    "    </div>\n",
    "    <div id=\"collapse1-44\" class=\"panel-collapse collapse\">\n",
    "      <div class=\"panel-body\">Use dataframe's writeStream function with outputMode as \"complete\" to compute complete set of counts<br> Use output format for in-memory table and trigger for tigger frequency.</div>\n",
    "    </div>\n",
    "  </div>\n",
    "  <div class=\"panel panel-default\">\n",
    "    <div class=\"panel-heading\">\n",
    "      <h4 class=\"panel-title\">\n",
    "        <a data-toggle=\"collapse\" data-parent=\"#accordion-22\" href=\"#collapse2-44\">\n",
    "        Show Code</a>\n",
    "      </h4>\n",
    "    </div>\n",
    "    <div id=\"collapse2-44\" class=\"panel-collapse collapse\">\n",
    "      <div class=\"panel-body\">\n",
    "query&nbsp;=&nbsp;wordCounts&nbsp;\\<br>\n",
    "&nbsp;&nbsp;&nbsp;&nbsp;.writeStream&nbsp;\\<br>\n",
    "&nbsp;&nbsp;&nbsp;&nbsp;.outputMode(\"complete\")&nbsp;\\<br>\n",
    "&nbsp;&nbsp;&nbsp;&nbsp;.trigger(processingTime=\"30&nbsp;seconds\")&nbsp;\\<br>\n",
    "&nbsp;&nbsp;&nbsp;&nbsp;.format(\"memory\")&nbsp;\\<br>\n",
    "&nbsp;&nbsp;&nbsp;&nbsp;.queryName(\"TB_WORD_COUNT\")<br>\n",
    "        </div>\n",
    "    </div>\n",
    "  </div>\n",
    "</div> "
   ]
  },
  {
   "cell_type": "code",
   "execution_count": null,
   "metadata": {},
   "outputs": [],
   "source": []
  },
  {
   "cell_type": "markdown",
   "metadata": {},
   "source": [
    "## Before starting the query start a data server for testing"
   ]
  },
  {
   "cell_type": "markdown",
   "metadata": {},
   "source": [
    "### > Run netcat command and output a line every 15 seconds\n",
    "      Run it in separate thread, so that we can execute other cells"
   ]
  },
  {
   "cell_type": "code",
   "execution_count": null,
   "metadata": {},
   "outputs": [],
   "source": [
    "%%script bash --bg\n",
    "while sleep 5; do echo \"Spark is fast. DSX and Spark combination is awesome\"; done | nc -l 9999"
   ]
  },
  {
   "cell_type": "markdown",
   "metadata": {},
   "source": [
    "### > Now start the query  to build the output table"
   ]
  },
  {
   "cell_type": "code",
   "execution_count": null,
   "metadata": {},
   "outputs": [],
   "source": [
    "rquery =  query.start()"
   ]
  },
  {
   "cell_type": "markdown",
   "metadata": {},
   "source": [
    "### > Query the table to see the results\n",
    "- Execute below query multiple times to see the change of values for running counts."
   ]
  },
  {
   "cell_type": "code",
   "execution_count": null,
   "metadata": {},
   "outputs": [],
   "source": [
    "spark.sql(\"select * from TB_WORD_COUNT\").show()"
   ]
  },
  {
   "cell_type": "markdown",
   "metadata": {},
   "source": [
    "### > Finally Stop the streaming query "
   ]
  },
  {
   "cell_type": "code",
   "execution_count": null,
   "metadata": {},
   "outputs": [],
   "source": [
    "rquery.stop()"
   ]
  },
  {
   "cell_type": "markdown",
   "metadata": {},
   "source": [
    "### > Stop kernal to stop netcat server in backhround thread."
   ]
  }
 ],
 "metadata": {
  "kernelspec": {
   "display_name": "Python 2 with Spark 2.1",
   "language": "python",
   "name": "python2-spark21"
  },
  "language_info": {
   "codemirror_mode": {
    "name": "ipython",
    "version": 2
   },
   "file_extension": ".py",
   "mimetype": "text/x-python",
   "name": "python",
   "nbconvert_exporter": "python",
   "pygments_lexer": "ipython2",
   "version": "2.7.11"
  }
 },
 "nbformat": 4,
 "nbformat_minor": 1
}
